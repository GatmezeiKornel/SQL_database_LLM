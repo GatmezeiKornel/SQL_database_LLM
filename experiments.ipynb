{
 "cells": [
  {
   "cell_type": "code",
   "execution_count": 1,
   "metadata": {},
   "outputs": [],
   "source": [
    "import os\n",
    "import numpy as np\n",
    "from dotenv import load_dotenv\n",
    "from openai import AzureOpenAI\n",
    "from pprint import pprint\n",
    "from utils.prompts.prompt import *\n",
    "from utils.prompts.Schema_Prompt_v1 import *\n",
    "from utils.postgres_functions import *"
   ]
  },
  {
   "cell_type": "code",
   "execution_count": 2,
   "metadata": {},
   "outputs": [
    {
     "data": {
      "text/plain": [
       "True"
      ]
     },
     "execution_count": 2,
     "metadata": {},
     "output_type": "execute_result"
    }
   ],
   "source": [
    "load_dotenv()"
   ]
  },
  {
   "cell_type": "code",
   "execution_count": 3,
   "metadata": {},
   "outputs": [],
   "source": [
    "def calculate_confidence_score(logprobs: list) -> float:\n",
    "    probs = []\n",
    "    # iterate through the token predictions and get the linear probs [0;1]\n",
    "    for logprob in logprobs:\n",
    "        probs.append(np.round(np.exp(logprob)*100, 2))\n",
    "    # calculate the confidence\n",
    "    return round(np.mean(probs), 2)"
   ]
  },
  {
   "cell_type": "code",
   "execution_count": 4,
   "metadata": {},
   "outputs": [],
   "source": [
    "client = AzureOpenAI(\n",
    "    api_key = str(os.environ['azure_api_key']),\n",
    "    api_version = str(os.environ['azure_api_version']),\n",
    "    azure_endpoint = str(os.environ['azure_api_endpoint'])\n",
    ")"
   ]
  },
  {
   "cell_type": "code",
   "execution_count": 118,
   "metadata": {},
   "outputs": [],
   "source": [
    "# QUERY = \"Forgalomban van a novocetrin?\"\n",
    "# QUERY = \"Milyen ciszplatin hatóanyagú gyógyszert tudok filmtablettás gyógyszerként kiírni?\"\n",
    "QUERY = \"Milyen ciszplatin hatóanyagú gyógyszert tudok kiírni?\"\n",
    "# QUERY = \"Mennyibe kerül a syntroxine?\"\n",
    "# QUERY = \"Milyen gyógyszert lenne érdemes felírni láz esetén?\"\n",
    "# QUERY = \"Milyen kiszerelésben kapható az egilok tabletta?\"\n",
    "# QUERY = \"Ki forgalmazza a perdox oldatot?\"\n",
    "# QUERY = \"Mivel lehet kiváltani a Matrifent?\"\n",
    "# QUERY = \"Ki írhatja fel a letrozol pharcet?\"\n",
    "# QUERY = \"Milyen betegségek esetén alkalmazható a Brusimp?\"\n",
    "# QUERY = \"Mi a calcium fluoratum ATC kódjának értelmezése?\""
   ]
  },
  {
   "cell_type": "code",
   "execution_count": 119,
   "metadata": {},
   "outputs": [],
   "source": [
    "sql_gen_messages = [\n",
    "                {\"role\": \"system\", \"content\" : sql_system_message.format(system_prompt=SQL_SYSTEM_PROMPT, \n",
    "                                                                    table_info=SCHEMA_PROMPT)},\n",
    "                {\"role\": \"user\", \"content\": question_message.format(question=QUERY)}\n",
    "                ]"
   ]
  },
  {
   "cell_type": "code",
   "execution_count": 120,
   "metadata": {},
   "outputs": [
    {
     "name": "stdout",
     "output_type": "stream",
     "text": [
      "\"SELECT OEP_NEV, HATOANYAG FROM GYOGYSZ WHERE HATOANYAG = 'ciszplatin' LIMIT 10\"\n"
     ]
    }
   ],
   "source": [
    "full_response = client.chat.completions.create(\n",
    "    model=\"TextToSql_Pupha\",\n",
    "    messages=sql_gen_messages,\n",
    "    temperature=0.0,\n",
    "    max_tokens=1024,\n",
    "    logprobs=True\n",
    ")\n",
    "pprint(full_response.choices[0].message.content)"
   ]
  },
  {
   "cell_type": "code",
   "execution_count": 113,
   "metadata": {},
   "outputs": [
    {
     "name": "stdout",
     "output_type": "stream",
     "text": [
      "ChatCompletion(id='chatcmpl-9FnVdZP1Vk4O14znh6wl51gJO6Alv', choices=[Choice(finish_reason='stop', index=0, logprobs=ChoiceLogprobs(content=[ChatCompletionTokenLogprob(token='SELECT', bytes=[83, 69, 76, 69, 67, 84], logprob=-0.0063932342, top_logprobs=[]), ChatCompletionTokenLogprob(token=' G', bytes=[32, 71], logprob=-0.5799946, top_logprobs=[]), ChatCompletionTokenLogprob(token='Y', bytes=[89], logprob=-0.001165461, top_logprobs=[]), ChatCompletionTokenLogprob(token='OG', bytes=[79, 71], logprob=-0.00022487417, top_logprobs=[]), ChatCompletionTokenLogprob(token='YS', bytes=[89, 83], logprob=-9.0883464e-07, top_logprobs=[]), ChatCompletionTokenLogprob(token='Z', bytes=[90], logprob=0.0, top_logprobs=[]), ChatCompletionTokenLogprob(token='.O', bytes=[46, 79], logprob=-0.43099958, top_logprobs=[]), ChatCompletionTokenLogprob(token='EP', bytes=[69, 80], logprob=-4.00813e-06, top_logprobs=[]), ChatCompletionTokenLogprob(token='_NE', bytes=[95, 78, 69], logprob=-0.00024989594, top_logprobs=[]), ChatCompletionTokenLogprob(token='V', bytes=[86], logprob=0.0, top_logprobs=[]), ChatCompletionTokenLogprob(token=',', bytes=[44], logprob=-0.00834258, top_logprobs=[]), ChatCompletionTokenLogprob(token=' G', bytes=[32, 71], logprob=-0.031348407, top_logprobs=[]), ChatCompletionTokenLogprob(token='Y', bytes=[89], logprob=-9.729906e-06, top_logprobs=[]), ChatCompletionTokenLogprob(token='OG', bytes=[79, 71], logprob=-0.0316694, top_logprobs=[]), ChatCompletionTokenLogprob(token='YS', bytes=[89, 83], logprob=-6.0345924e-06, top_logprobs=[]), ChatCompletionTokenLogprob(token='Z', bytes=[90], logprob=-1.867018e-05, top_logprobs=[]), ChatCompletionTokenLogprob(token='.G', bytes=[46, 71], logprob=-0.75090784, top_logprobs=[]), ChatCompletionTokenLogprob(token='Y', bytes=[89], logprob=-5.931863e-05, top_logprobs=[]), ChatCompletionTokenLogprob(token='FORM', bytes=[70, 79, 82, 77], logprob=-4.5252596e-05, top_logprobs=[]), ChatCompletionTokenLogprob(token='A', bytes=[65], logprob=0.0, top_logprobs=[]), ChatCompletionTokenLogprob(token='\\n', bytes=[10], logprob=-0.8059276, top_logprobs=[]), ChatCompletionTokenLogprob(token='FROM', bytes=[70, 82, 79, 77], logprob=-4.406056e-05, top_logprobs=[]), ChatCompletionTokenLogprob(token=' G', bytes=[32, 71], logprob=-3.8100377e-05, top_logprobs=[]), ChatCompletionTokenLogprob(token='Y', bytes=[89], logprob=-6.2729996e-06, top_logprobs=[]), ChatCompletionTokenLogprob(token='OG', bytes=[79, 71], logprob=-3.1281633e-07, top_logprobs=[]), ChatCompletionTokenLogprob(token='YS', bytes=[89, 83], logprob=0.0, top_logprobs=[]), ChatCompletionTokenLogprob(token='Z', bytes=[90], logprob=0.0, top_logprobs=[]), ChatCompletionTokenLogprob(token='\\n', bytes=[10], logprob=-0.015572182, top_logprobs=[]), ChatCompletionTokenLogprob(token='WHERE', bytes=[87, 72, 69, 82, 69], logprob=-0.0022489843, top_logprobs=[]), ChatCompletionTokenLogprob(token=' G', bytes=[32, 71], logprob=-0.28309333, top_logprobs=[]), ChatCompletionTokenLogprob(token='Y', bytes=[89], logprob=0.0, top_logprobs=[]), ChatCompletionTokenLogprob(token='OG', bytes=[79, 71], logprob=-0.00015478976, top_logprobs=[]), ChatCompletionTokenLogprob(token='YS', bytes=[89, 83], logprob=-9.0883464e-07, top_logprobs=[]), ChatCompletionTokenLogprob(token='Z', bytes=[90], logprob=-4.3202e-07, top_logprobs=[]), ChatCompletionTokenLogprob(token='.H', bytes=[46, 72], logprob=-0.0024329745, top_logprobs=[]), ChatCompletionTokenLogprob(token='ATO', bytes=[65, 84, 79], logprob=-5.2001665e-06, top_logprobs=[]), ChatCompletionTokenLogprob(token='ANY', bytes=[65, 78, 89], logprob=-3.0545007e-06, top_logprobs=[]), ChatCompletionTokenLogprob(token='AG', bytes=[65, 71], logprob=0.0, top_logprobs=[]), ChatCompletionTokenLogprob(token=' =', bytes=[32, 61], logprob=-0.1853591, top_logprobs=[]), ChatCompletionTokenLogprob(token=\" '\", bytes=[32, 39], logprob=-0.0010367411, top_logprobs=[]), ChatCompletionTokenLogprob(token='cis', bytes=[99, 105, 115], logprob=-0.08435377, top_logprobs=[]), ChatCompletionTokenLogprob(token='z', bytes=[122], logprob=-0.0012790456, top_logprobs=[]), ChatCompletionTokenLogprob(token='pl', bytes=[112, 108], logprob=-1.4974867e-05, top_logprobs=[]), ChatCompletionTokenLogprob(token='atin', bytes=[97, 116, 105, 110], logprob=-4.00813e-06, top_logprobs=[]), ChatCompletionTokenLogprob(token=\"'\", bytes=[39], logprob=-0.17218596, top_logprobs=[]), ChatCompletionTokenLogprob(token=' AND', bytes=[32, 65, 78, 68], logprob=-0.004666861, top_logprobs=[]), ChatCompletionTokenLogprob(token=' G', bytes=[32, 71], logprob=-0.015030741, top_logprobs=[]), ChatCompletionTokenLogprob(token='Y', bytes=[89], logprob=-4.246537e-06, top_logprobs=[]), ChatCompletionTokenLogprob(token='OG', bytes=[79, 71], logprob=-0.04789092, top_logprobs=[]), ChatCompletionTokenLogprob(token='YS', bytes=[89, 83], logprob=-9.0883464e-07, top_logprobs=[]), ChatCompletionTokenLogprob(token='Z', bytes=[90], logprob=-6.704273e-07, top_logprobs=[]), ChatCompletionTokenLogprob(token='.G', bytes=[46, 71], logprob=-0.0075026285, top_logprobs=[]), ChatCompletionTokenLogprob(token='Y', bytes=[89], logprob=-1.9361265e-07, top_logprobs=[]), ChatCompletionTokenLogprob(token='FORM', bytes=[70, 79, 82, 77], logprob=-1.3856493e-06, top_logprobs=[]), ChatCompletionTokenLogprob(token='A', bytes=[65], logprob=0.0, top_logprobs=[]), ChatCompletionTokenLogprob(token=' LIKE', bytes=[32, 76, 73, 75, 69], logprob=-0.16921732, top_logprobs=[]), ChatCompletionTokenLogprob(token=\" '%\", bytes=[32, 39, 37], logprob=-0.038049985, top_logprobs=[]), ChatCompletionTokenLogprob(token='film', bytes=[102, 105, 108, 109], logprob=-0.0010952115, top_logprobs=[]), ChatCompletionTokenLogprob(token='tablet', bytes=[116, 97, 98, 108, 101, 116], logprob=-0.0032172839, top_logprobs=[]), ChatCompletionTokenLogprob(token='ta', bytes=[116, 97], logprob=-0.015855107, top_logprobs=[]), ChatCompletionTokenLogprob(token=\"%'\\n\", bytes=[37, 39, 10], logprob=-0.004896435, top_logprobs=[]), ChatCompletionTokenLogprob(token='LIMIT', bytes=[76, 73, 77, 73, 84], logprob=-0.0017449157, top_logprobs=[]), ChatCompletionTokenLogprob(token=' ', bytes=[32], logprob=-3.1281633e-07, top_logprobs=[]), ChatCompletionTokenLogprob(token='10', bytes=[49, 48], logprob=-1.3856493e-06, top_logprobs=[])]), message=ChatCompletionMessage(content=\"SELECT GYOGYSZ.OEP_NEV, GYOGYSZ.GYFORMA\\nFROM GYOGYSZ\\nWHERE GYOGYSZ.HATOANYAG = 'ciszplatin' AND GYOGYSZ.GYFORMA LIKE '%filmtabletta%'\\nLIMIT 10\", role='assistant', function_call=None, tool_calls=None), content_filter_results={'hate': {'filtered': False, 'severity': 'safe'}, 'self_harm': {'filtered': False, 'severity': 'safe'}, 'sexual': {'filtered': False, 'severity': 'safe'}, 'violence': {'filtered': False, 'severity': 'safe'}})], created=1713552261, model='gpt-4', object='chat.completion', system_fingerprint='fp_8abb16fa4e', usage=CompletionUsage(completion_tokens=64, prompt_tokens=5840, total_tokens=5904), prompt_filter_results=[{'prompt_index': 0, 'content_filter_results': {'hate': {'filtered': False, 'severity': 'safe'}, 'self_harm': {'filtered': False, 'severity': 'safe'}, 'sexual': {'filtered': False, 'severity': 'safe'}, 'violence': {'filtered': False, 'severity': 'safe'}}}])\n"
     ]
    }
   ],
   "source": [
    "pprint(full_response)"
   ]
  },
  {
   "cell_type": "code",
   "execution_count": 114,
   "metadata": {},
   "outputs": [
    {
     "data": {
      "text/plain": [
       "95.44"
      ]
     },
     "execution_count": 114,
     "metadata": {},
     "output_type": "execute_result"
    }
   ],
   "source": [
    "logprobs = [x.logprob for x in full_response.choices[0].logprobs.content]\n",
    "calculate_confidence_score(logprobs)"
   ]
  },
  {
   "cell_type": "code",
   "execution_count": 121,
   "metadata": {},
   "outputs": [
    {
     "name": "stdout",
     "output_type": "stream",
     "text": [
      "Connection established\n",
      "                                                   0           1\n",
      "0  CISPLATIN SANDOZ 0,5 MG/ML KONCENTRÁTUM OLDATO...  ciszplatin\n",
      "1  CISPLATIN SANDOZ 0,5 MG/ML KONCENTRÁTUM OLDATO...  ciszplatin\n",
      "2  CISPLATIN SANDOZ 0,5 MG/ML KONCENTRÁTUM OLDATO...  ciszplatin\n",
      "3  CISPLATIN ACCORD 1 MG/ML KONCENTRÁTUM OLDATOS ...  ciszplatin\n",
      "4  CISPLATIN ACCORD 1 MG/ML KONCENTRÁTUM OLDATOS ...  ciszplatin\n",
      "5  CISPLATIN ACCORD 1 MG/ML KONCENTRÁTUM OLDATOS ...  ciszplatin\n",
      "6  CISPLATIN ACCORD 1 MG/ML KONCENTRÁTUM OLDATOS ...  ciszplatin\n"
     ]
    }
   ],
   "source": [
    "db_connection = connect_to_db(str(os.environ['db_host']), str(os.environ['db_name']), str(os.environ['db_user']), str(os.environ['db_password']))\n",
    "print(read_db(full_response.choices[0].message.content,db_connection))\n",
    "close_connection(db_connection)"
   ]
  },
  {
   "cell_type": "code",
   "execution_count": 129,
   "metadata": {},
   "outputs": [
    {
     "name": "stdout",
     "output_type": "stream",
     "text": [
      "Connection established\n",
      "Empty DataFrame\n",
      "Columns: []\n",
      "Index: []\n"
     ]
    }
   ],
   "source": [
    "db_connection = connect_to_db(str(os.environ['db_host']), str(os.environ['db_name']), str(os.environ['db_user']), str(os.environ['db_password']))\n",
    "print(read_db(\"SELECT * from ORVOSOK\",db_connection))\n",
    "close_connection(db_connection)"
   ]
  },
  {
   "cell_type": "code",
   "execution_count": null,
   "metadata": {},
   "outputs": [],
   "source": []
  }
 ],
 "metadata": {
  "kernelspec": {
   "display_name": "Python 3",
   "language": "python",
   "name": "python3"
  },
  "language_info": {
   "codemirror_mode": {
    "name": "ipython",
    "version": 3
   },
   "file_extension": ".py",
   "mimetype": "text/x-python",
   "name": "python",
   "nbconvert_exporter": "python",
   "pygments_lexer": "ipython3",
   "version": "3.11.8"
  }
 },
 "nbformat": 4,
 "nbformat_minor": 2
}
