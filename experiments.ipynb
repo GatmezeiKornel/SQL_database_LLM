{
 "cells": [
  {
   "cell_type": "code",
   "execution_count": 1,
   "metadata": {},
   "outputs": [],
   "source": [
    "import os\n",
    "import numpy as np\n",
    "from dotenv import load_dotenv\n",
    "from openai import AzureOpenAI\n",
    "from pprint import pprint\n",
    "from utils.prompts.prompt import *\n",
    "from utils.prompts.Schema_Prompt_v1 import *\n",
    "from utils.postgres_functions import *"
   ]
  },
  {
   "cell_type": "code",
   "execution_count": 2,
   "metadata": {},
   "outputs": [
    {
     "data": {
      "text/plain": [
       "True"
      ]
     },
     "execution_count": 2,
     "metadata": {},
     "output_type": "execute_result"
    }
   ],
   "source": [
    "load_dotenv()"
   ]
  },
  {
   "cell_type": "code",
   "execution_count": 3,
   "metadata": {},
   "outputs": [],
   "source": [
    "def calculate_confidence_score(logprobs: list) -> float:\n",
    "    probs = []\n",
    "    # iterate through the token predictions and get the linear probs [0;1]\n",
    "    for logprob in logprobs:\n",
    "        probs.append(np.round(np.exp(logprob)*100, 2))\n",
    "    # calculate the confidence\n",
    "    return round(np.mean(probs), 2)"
   ]
  },
  {
   "cell_type": "code",
   "execution_count": 4,
   "metadata": {},
   "outputs": [],
   "source": [
    "client = AzureOpenAI(\n",
    "    api_key = str(os.environ['azure_api_key']),\n",
    "    api_version = \"2024-03-01-preview\",\n",
    "    azure_endpoint = str(os.environ['azure_api_endpoint'])\n",
    ")"
   ]
  },
  {
   "cell_type": "code",
   "execution_count": 5,
   "metadata": {},
   "outputs": [],
   "source": [
    "# QUERY = \"Forgalomban van a novocetrin?\"\n",
    "# QUERY = \"Milyen ciszplatin hatóanyagú gyógyszert tudok filmtablettás gyógyszerként kiírni?\"\n",
    "# QUERY = \"Milyen ciszplatin hatóanyagú gyógyszert tudok kiírni?\"\n",
    "# QUERY = \"Mennyibe kerül a syntroxine?\"\n",
    "# QUERY = \"Milyen gyógyszert lenne érdemes felírni láz esetén?\"\n",
    "# QUERY = \"Milyen kiszerelésben kapható az egilok tabletta?\"\n",
    "# QUERY = \"Ki forgalmazza a perdox oldatot?\"\n",
    "QUERY = \"Mivel lehet kiváltani a Matrifent?\"\n",
    "# QUERY = \"Ki írhatja fel a letrozol pharcet?\"\n",
    "# QUERY = \"Milyen betegségek esetén alkalmazható a Brusimp?\"\n",
    "# QUERY = \"Mi a calcium fluoratum ATC kódjának értelmezése?\""
   ]
  },
  {
   "cell_type": "code",
   "execution_count": 26,
   "metadata": {},
   "outputs": [],
   "source": [
    "QUERY = \"Mire használják a harmonetet?\""
   ]
  },
  {
   "cell_type": "code",
   "execution_count": 27,
   "metadata": {},
   "outputs": [],
   "source": [
    "sql_gen_messages = [\n",
    "                {\"role\": \"system\", \"content\" : sql_system_message.format(system_prompt=SQL_SYSTEM_PROMPT, \n",
    "                                                                    table_info=SCHEMA_PROMPT)},\n",
    "                {\"role\": \"user\", \"content\": question_message.format(question=QUERY)}\n",
    "                ]"
   ]
  },
  {
   "cell_type": "code",
   "execution_count": 32,
   "metadata": {},
   "outputs": [
    {
     "name": "stdout",
     "output_type": "stream",
     "text": [
      "('SELECT BNOKODOK.LEIRAS\\n'\n",
      " 'FROM BNOKODOK\\n'\n",
      " 'JOIN BNOHOZZAR ON BNOKODOK.ID = BNOHOZZAR.BNO_ID\\n'\n",
      " 'JOIN EUPONTOK ON BNOHOZZAR.EUPONT_ID = EUPONTOK.ID\\n'\n",
      " 'JOIN EUINDIKACIOK ON EUPONTOK.ID = EUINDIKACIOK.EUPONT_ID\\n'\n",
      " \"WHERE EUINDIKACIOK.LEIRAS ILIKE '%harmonet%'\\n\"\n",
      " 'LIMIT 10')\n"
     ]
    }
   ],
   "source": [
    "full_response = client.chat.completions.create(\n",
    "    model=\"TextToSql_Pupha\",\n",
    "    messages=sql_gen_messages,\n",
    "    temperature=0.0,\n",
    "    max_tokens=1024,\n",
    "    logprobs=True\n",
    ")\n",
    "pprint(full_response.choices[0].message.content)"
   ]
  },
  {
   "cell_type": "code",
   "execution_count": 8,
   "metadata": {},
   "outputs": [
    {
     "name": "stdout",
     "output_type": "stream",
     "text": [
      "ChatCompletion(id='chatcmpl-9GtuXIJCmJ8ENjF3I8THRVGMxjVE7', choices=[Choice(finish_reason='stop', index=0, logprobs=ChoiceLogprobs(content=[ChatCompletionTokenLogprob(token='SELECT', bytes=[83, 69, 76, 69, 67, 84], logprob=-0.011682977, top_logprobs=[]), ChatCompletionTokenLogprob(token=' G', bytes=[32, 71], logprob=-0.2956411, top_logprobs=[]), ChatCompletionTokenLogprob(token='Y', bytes=[89], logprob=-2.5345586e-05, top_logprobs=[]), ChatCompletionTokenLogprob(token='OG', bytes=[79, 71], logprob=-0.0003894431, top_logprobs=[]), ChatCompletionTokenLogprob(token='YS', bytes=[89, 83], logprob=-6.704273e-07, top_logprobs=[]), ChatCompletionTokenLogprob(token='Z', bytes=[90], logprob=0.0, top_logprobs=[]), ChatCompletionTokenLogprob(token='.O', bytes=[46, 79], logprob=-0.6194805, top_logprobs=[]), ChatCompletionTokenLogprob(token='EP', bytes=[69, 80], logprob=-4.3202e-07, top_logprobs=[]), ChatCompletionTokenLogprob(token='_NE', bytes=[95, 78, 69], logprob=-3.917321e-05, top_logprobs=[]), ChatCompletionTokenLogprob(token='V', bytes=[86], logprob=0.0, top_logprobs=[]), ChatCompletionTokenLogprob(token=',', bytes=[44], logprob=-0.014970617, top_logprobs=[]), ChatCompletionTokenLogprob(token=' G', bytes=[32, 71], logprob=-0.015875168, top_logprobs=[]), ChatCompletionTokenLogprob(token='Y', bytes=[89], logprob=-4.723352e-06, top_logprobs=[]), ChatCompletionTokenLogprob(token='OG', bytes=[79, 71], logprob=-3.1186566e-05, top_logprobs=[]), ChatCompletionTokenLogprob(token='YS', bytes=[89, 83], logprob=-5.5122365e-07, top_logprobs=[]), ChatCompletionTokenLogprob(token='Z', bytes=[90], logprob=-2.3392786e-06, top_logprobs=[]), ChatCompletionTokenLogprob(token='.H', bytes=[46, 72], logprob=-0.079797916, top_logprobs=[]), ChatCompletionTokenLogprob(token='ATO', bytes=[65, 84, 79], logprob=-0.0001906664, top_logprobs=[]), ChatCompletionTokenLogprob(token='ANY', bytes=[65, 78, 89], logprob=-1.7835755e-05, top_logprobs=[]), ChatCompletionTokenLogprob(token='AG', bytes=[65, 71], logprob=0.0, top_logprobs=[]), ChatCompletionTokenLogprob(token='\\n', bytes=[10], logprob=-0.75531346, top_logprobs=[]), ChatCompletionTokenLogprob(token='FROM', bytes=[70, 82, 79, 77], logprob=-3.7981175e-05, top_logprobs=[]), ChatCompletionTokenLogprob(token=' G', bytes=[32, 71], logprob=-0.06433229, top_logprobs=[]), ChatCompletionTokenLogprob(token='Y', bytes=[89], logprob=-1.9361265e-07, top_logprobs=[]), ChatCompletionTokenLogprob(token='OG', bytes=[79, 71], logprob=-3.1281633e-07, top_logprobs=[]), ChatCompletionTokenLogprob(token='YS', bytes=[89, 83], logprob=-6.9882217e-06, top_logprobs=[]), ChatCompletionTokenLogprob(token='Z', bytes=[90], logprob=-4.3202e-07, top_logprobs=[]), ChatCompletionTokenLogprob(token='\\n', bytes=[10], logprob=-0.01121122, top_logprobs=[]), ChatCompletionTokenLogprob(token='JOIN', bytes=[74, 79, 73, 78], logprob=-0.05255861, top_logprobs=[]), ChatCompletionTokenLogprob(token=' AT', bytes=[32, 65, 84], logprob=-0.22162256, top_logprobs=[]), ChatCompletionTokenLogprob(token='CK', bytes=[67, 75], logprob=-2.4584822e-06, top_logprobs=[]), ChatCompletionTokenLogprob(token='ONY', bytes=[79, 78, 89], logprob=-0.00013786652, top_logprobs=[]), ChatCompletionTokenLogprob(token='V', bytes=[86], logprob=0.0, top_logprobs=[]), ChatCompletionTokenLogprob(token=' ON', bytes=[32, 79, 78], logprob=-0.0045942497, top_logprobs=[]), ChatCompletionTokenLogprob(token=' G', bytes=[32, 71], logprob=-0.012955151, top_logprobs=[]), ChatCompletionTokenLogprob(token='Y', bytes=[89], logprob=0.0, top_logprobs=[]), ChatCompletionTokenLogprob(token='OG', bytes=[79, 71], logprob=-9.0883464e-07, top_logprobs=[]), ChatCompletionTokenLogprob(token='YS', bytes=[89, 83], logprob=0.0, top_logprobs=[]), ChatCompletionTokenLogprob(token='Z', bytes=[90], logprob=-3.1281633e-07, top_logprobs=[]), ChatCompletionTokenLogprob(token='.O', bytes=[46, 79], logprob=-0.00031794657, top_logprobs=[]), ChatCompletionTokenLogprob(token='EP', bytes=[69, 80], logprob=-3.1281633e-07, top_logprobs=[]), ChatCompletionTokenLogprob(token='_AT', bytes=[95, 65, 84], logprob=-3.1737043e-06, top_logprobs=[]), ChatCompletionTokenLogprob(token='C', bytes=[67], logprob=0.0, top_logprobs=[]), ChatCompletionTokenLogprob(token=' =', bytes=[32, 61], logprob=-0.0063173086, top_logprobs=[]), ChatCompletionTokenLogprob(token=' AT', bytes=[32, 65, 84], logprob=-1.473646e-05, top_logprobs=[]), ChatCompletionTokenLogprob(token='CK', bytes=[67, 75], logprob=0.0, top_logprobs=[]), ChatCompletionTokenLogprob(token='ONY', bytes=[79, 78, 89], logprob=-1.9361265e-07, top_logprobs=[]), ChatCompletionTokenLogprob(token='V', bytes=[86], logprob=-3.1281633e-07, top_logprobs=[]), ChatCompletionTokenLogprob(token='.', bytes=[46], logprob=-6.241792e-05, top_logprobs=[]), ChatCompletionTokenLogprob(token='AT', bytes=[65, 84], logprob=0.0, top_logprobs=[]), ChatCompletionTokenLogprob(token='C', bytes=[67], logprob=0.0, top_logprobs=[]), ChatCompletionTokenLogprob(token='\\n', bytes=[10], logprob=-0.002497064, top_logprobs=[]), ChatCompletionTokenLogprob(token='WHERE', bytes=[87, 72, 69, 82, 69], logprob=-0.009800477, top_logprobs=[]), ChatCompletionTokenLogprob(token=' AT', bytes=[32, 65, 84], logprob=-0.019149996, top_logprobs=[]), ChatCompletionTokenLogprob(token='CK', bytes=[67, 75], logprob=0.0, top_logprobs=[]), ChatCompletionTokenLogprob(token='ONY', bytes=[79, 78, 89], logprob=-3.1281633e-07, top_logprobs=[]), ChatCompletionTokenLogprob(token='V', bytes=[86], logprob=0.0, top_logprobs=[]), ChatCompletionTokenLogprob(token='.M', bytes=[46, 77], logprob=-0.015656326, top_logprobs=[]), ChatCompletionTokenLogprob(token='EG', bytes=[69, 71], logprob=-8.89548e-06, top_logprobs=[]), ChatCompletionTokenLogprob(token='NE', bytes=[78, 69], logprob=0.0, top_logprobs=[]), ChatCompletionTokenLogprob(token='V', bytes=[86], logprob=-6.704273e-07, top_logprobs=[]), ChatCompletionTokenLogprob(token=' IL', bytes=[32, 73, 76], logprob=-8.3159364e-05, top_logprobs=[]), ChatCompletionTokenLogprob(token='IKE', bytes=[73, 75, 69], logprob=0.0, top_logprobs=[]), ChatCompletionTokenLogprob(token=\" '%\", bytes=[32, 39, 37], logprob=-0.1469406, top_logprobs=[]), ChatCompletionTokenLogprob(token='l', bytes=[108], logprob=-0.0025920656, top_logprobs=[]), ChatCompletionTokenLogprob(token='áz', bytes=[195, 161, 122], logprob=-0.0015304554, top_logprobs=[]), ChatCompletionTokenLogprob(token=\"%'\", bytes=[37, 39], logprob=-0.7273916, top_logprobs=[]), ChatCompletionTokenLogprob(token=' OR', bytes=[32, 79, 82], logprob=-0.37974, top_logprobs=[]), ChatCompletionTokenLogprob(token=' AT', bytes=[32, 65, 84], logprob=-0.007138725, top_logprobs=[]), ChatCompletionTokenLogprob(token='CK', bytes=[67, 75], logprob=0.0, top_logprobs=[]), ChatCompletionTokenLogprob(token='ONY', bytes=[79, 78, 89], logprob=-1.9361265e-07, top_logprobs=[]), ChatCompletionTokenLogprob(token='V', bytes=[86], logprob=0.0, top_logprobs=[]), ChatCompletionTokenLogprob(token='.A', bytes=[46, 65], logprob=-0.2265112, top_logprobs=[]), ChatCompletionTokenLogprob(token='NG', bytes=[78, 71], logprob=-9.014684e-06, top_logprobs=[]), ChatCompletionTokenLogprob(token='OL', bytes=[79, 76], logprob=-3.1281633e-07, top_logprobs=[]), ChatCompletionTokenLogprob(token=' IL', bytes=[32, 73, 76], logprob=-6.9331734e-05, top_logprobs=[]), ChatCompletionTokenLogprob(token='IKE', bytes=[73, 75, 69], logprob=0.0, top_logprobs=[]), ChatCompletionTokenLogprob(token=\" '%\", bytes=[32, 39, 37], logprob=-0.0006298751, top_logprobs=[]), ChatCompletionTokenLogprob(token='fe', bytes=[102, 101], logprob=-0.0005533903, top_logprobs=[]), ChatCompletionTokenLogprob(token='ver', bytes=[118, 101, 114], logprob=-2.577686e-06, top_logprobs=[]), ChatCompletionTokenLogprob(token=\"%'\\n\", bytes=[37, 39, 10], logprob=-0.023645362, top_logprobs=[]), ChatCompletionTokenLogprob(token='ORDER', bytes=[79, 82, 68, 69, 82], logprob=-0.51140857, top_logprobs=[]), ChatCompletionTokenLogprob(token=' BY', bytes=[32, 66, 89], logprob=-1.9816675e-06, top_logprobs=[]), ChatCompletionTokenLogprob(token=' G', bytes=[32, 71], logprob=-0.00083071314, top_logprobs=[]), ChatCompletionTokenLogprob(token='Y', bytes=[89], logprob=-4.3202e-07, top_logprobs=[]), ChatCompletionTokenLogprob(token='OG', bytes=[79, 71], logprob=-1.147242e-06, top_logprobs=[]), ChatCompletionTokenLogprob(token='YS', bytes=[89, 83], logprob=-1.504853e-06, top_logprobs=[]), ChatCompletionTokenLogprob(token='Z', bytes=[90], logprob=-1.504853e-06, top_logprobs=[]), ChatCompletionTokenLogprob(token='.O', bytes=[46, 79], logprob=-0.40687397, top_logprobs=[]), ChatCompletionTokenLogprob(token='EP', bytes=[69, 80], logprob=-1.1398757e-05, top_logprobs=[]), ChatCompletionTokenLogprob(token='_NE', bytes=[95, 78, 69], logprob=-0.007947999, top_logprobs=[]), ChatCompletionTokenLogprob(token='V', bytes=[86], logprob=-3.0545007e-06, top_logprobs=[]), ChatCompletionTokenLogprob(token='\\n', bytes=[10], logprob=-0.004673504, top_logprobs=[]), ChatCompletionTokenLogprob(token='LIMIT', bytes=[76, 73, 77, 73, 84], logprob=-8.76891e-05, top_logprobs=[]), ChatCompletionTokenLogprob(token=' ', bytes=[32], logprob=0.0, top_logprobs=[]), ChatCompletionTokenLogprob(token='10', bytes=[49, 48], logprob=-1.147242e-06, top_logprobs=[])]), message=ChatCompletionMessage(content=\"SELECT GYOGYSZ.OEP_NEV, GYOGYSZ.HATOANYAG\\nFROM GYOGYSZ\\nJOIN ATCKONYV ON GYOGYSZ.OEP_ATC = ATCKONYV.ATC\\nWHERE ATCKONYV.MEGNEV ILIKE '%láz%' OR ATCKONYV.ANGOL ILIKE '%fever%'\\nORDER BY GYOGYSZ.OEP_NEV\\nLIMIT 10\", role='assistant', function_call=None, tool_calls=None), content_filter_results={'hate': {'filtered': False, 'severity': 'safe'}, 'self_harm': {'filtered': False, 'severity': 'safe'}, 'sexual': {'filtered': False, 'severity': 'safe'}, 'violence': {'filtered': False, 'severity': 'safe'}})], created=1713815197, model='gpt-4', object='chat.completion', system_fingerprint='fp_8abb16fa4e', usage=CompletionUsage(completion_tokens=96, prompt_tokens=3488, total_tokens=3584), prompt_filter_results=[{'prompt_index': 0, 'content_filter_results': {'hate': {'filtered': False, 'severity': 'safe'}, 'self_harm': {'filtered': False, 'severity': 'safe'}, 'sexual': {'filtered': False, 'severity': 'safe'}, 'violence': {'filtered': False, 'severity': 'safe'}}}])\n"
     ]
    }
   ],
   "source": [
    "pprint(full_response)"
   ]
  },
  {
   "cell_type": "code",
   "execution_count": 32,
   "metadata": {},
   "outputs": [
    {
     "data": {
      "text/plain": [
       "94.39"
      ]
     },
     "execution_count": 32,
     "metadata": {},
     "output_type": "execute_result"
    }
   ],
   "source": [
    "logprobs = [x.logprob for x in full_response.choices[0].logprobs.content]\n",
    "calculate_confidence_score(logprobs)"
   ]
  },
  {
   "cell_type": "code",
   "execution_count": 33,
   "metadata": {},
   "outputs": [
    {
     "name": "stdout",
     "output_type": "stream",
     "text": [
      "Connection established\n"
     ]
    }
   ],
   "source": [
    "db_connection = connect_to_db(str(os.environ['db_host']), str('pupha'), str(os.environ['db_user']), str(os.environ['db_password']))\n",
    "query_answer = read_db(full_response.choices[0].message.content,db_connection)\n",
    "close_connection(db_connection)"
   ]
  },
  {
   "cell_type": "code",
   "execution_count": 34,
   "metadata": {},
   "outputs": [
    {
     "data": {
      "text/html": [
       "<div>\n",
       "<style scoped>\n",
       "    .dataframe tbody tr th:only-of-type {\n",
       "        vertical-align: middle;\n",
       "    }\n",
       "\n",
       "    .dataframe tbody tr th {\n",
       "        vertical-align: top;\n",
       "    }\n",
       "\n",
       "    .dataframe thead th {\n",
       "        text-align: right;\n",
       "    }\n",
       "</style>\n",
       "<table border=\"1\" class=\"dataframe\">\n",
       "  <thead>\n",
       "    <tr style=\"text-align: right;\">\n",
       "      <th></th>\n",
       "    </tr>\n",
       "  </thead>\n",
       "  <tbody>\n",
       "  </tbody>\n",
       "</table>\n",
       "</div>"
      ],
      "text/plain": [
       "Empty DataFrame\n",
       "Columns: []\n",
       "Index: []"
      ]
     },
     "execution_count": 34,
     "metadata": {},
     "output_type": "execute_result"
    }
   ],
   "source": [
    "query_answer"
   ]
  },
  {
   "cell_type": "code",
   "execution_count": 58,
   "metadata": {},
   "outputs": [
    {
     "name": "stdout",
     "output_type": "stream",
     "text": [
      "Connection established\n"
     ]
    },
    {
     "ename": "UndefinedColumn",
     "evalue": "column \"%MATRIFENT%\" does not exist\nLINE 1: ...N (SELECT EGYENID FROM GYOGYSZ WHERE OEP_NEV LIKE \"%MATRIFEN...\n                                                             ^\n",
     "output_type": "error",
     "traceback": [
      "\u001b[1;31m---------------------------------------------------------------------------\u001b[0m",
      "\u001b[1;31mUndefinedColumn\u001b[0m                           Traceback (most recent call last)",
      "Cell \u001b[1;32mIn[58], line 2\u001b[0m\n\u001b[0;32m      1\u001b[0m db_connection \u001b[38;5;241m=\u001b[39m connect_to_db(\u001b[38;5;28mstr\u001b[39m(os\u001b[38;5;241m.\u001b[39menviron[\u001b[38;5;124m'\u001b[39m\u001b[38;5;124mdb_host\u001b[39m\u001b[38;5;124m'\u001b[39m]), \u001b[38;5;28mstr\u001b[39m(\u001b[38;5;124m\"\u001b[39m\u001b[38;5;124mpupha\u001b[39m\u001b[38;5;124m\"\u001b[39m), \u001b[38;5;28mstr\u001b[39m(os\u001b[38;5;241m.\u001b[39menviron[\u001b[38;5;124m'\u001b[39m\u001b[38;5;124mdb_user\u001b[39m\u001b[38;5;124m'\u001b[39m]), \u001b[38;5;28mstr\u001b[39m(os\u001b[38;5;241m.\u001b[39menviron[\u001b[38;5;124m'\u001b[39m\u001b[38;5;124mdb_password\u001b[39m\u001b[38;5;124m'\u001b[39m]))\n\u001b[1;32m----> 2\u001b[0m \u001b[38;5;28mprint\u001b[39m(\u001b[43mread_db\u001b[49m\u001b[43m(\u001b[49m\u001b[38;5;124;43m'\u001b[39;49m\u001b[38;5;124;43mSELECT OEP_NEV FROM GYOGYSZ WHERE EGYENID IN (SELECT EGYENID FROM GYOGYSZ WHERE OEP_NEV LIKE \u001b[39;49m\u001b[38;5;124;43m\"\u001b[39;49m\u001b[38;5;124;43m%\u001b[39;49m\u001b[38;5;124;43mMATRIFENT\u001b[39;49m\u001b[38;5;124;43m%\u001b[39;49m\u001b[38;5;124;43m\"\u001b[39;49m\u001b[38;5;124;43m)\u001b[39;49m\u001b[38;5;124;43m'\u001b[39;49m\u001b[43m,\u001b[49m\u001b[43mdb_connection\u001b[49m\u001b[43m)\u001b[49m)\n\u001b[0;32m      3\u001b[0m close_connection(db_connection)\n",
      "File \u001b[1;32mc:\\Users\\kori\\Documents\\Egyetem\\SQL_database_LLM\\utils\\postgres_functions.py:60\u001b[0m, in \u001b[0;36mread_db\u001b[1;34m(query, conn)\u001b[0m\n\u001b[0;32m     50\u001b[0m \u001b[38;5;250m\u001b[39m\u001b[38;5;124;03m\"\"\"Querying postgreSQL database using psycopg2 connection variable\u001b[39;00m\n\u001b[0;32m     51\u001b[0m \u001b[38;5;124;03m\u001b[39;00m\n\u001b[0;32m     52\u001b[0m \u001b[38;5;124;03mParameters:\u001b[39;00m\n\u001b[1;32m   (...)\u001b[0m\n\u001b[0;32m     57\u001b[0m \u001b[38;5;124;03m- the result of the query in pandas Dataframe format\u001b[39;00m\n\u001b[0;32m     58\u001b[0m \u001b[38;5;124;03m\"\"\"\u001b[39;00m\n\u001b[0;32m     59\u001b[0m cursor \u001b[38;5;241m=\u001b[39m conn\u001b[38;5;241m.\u001b[39mcursor()\n\u001b[1;32m---> 60\u001b[0m \u001b[43mcursor\u001b[49m\u001b[38;5;241;43m.\u001b[39;49m\u001b[43mexecute\u001b[49m\u001b[43m(\u001b[49m\u001b[38;5;124;43mf\u001b[39;49m\u001b[38;5;124;43m\"\u001b[39;49m\u001b[38;5;132;43;01m{\u001b[39;49;00m\u001b[43mquery\u001b[49m\u001b[38;5;132;43;01m}\u001b[39;49;00m\u001b[38;5;124;43m;\u001b[39;49m\u001b[38;5;124;43m\"\u001b[39;49m\u001b[43m)\u001b[49m\n\u001b[0;32m     61\u001b[0m rows \u001b[38;5;241m=\u001b[39m cursor\u001b[38;5;241m.\u001b[39mfetchall()\n\u001b[0;32m     63\u001b[0m \u001b[38;5;28;01mreturn\u001b[39;00m pd\u001b[38;5;241m.\u001b[39mDataFrame(rows)\n",
      "\u001b[1;31mUndefinedColumn\u001b[0m: column \"%MATRIFENT%\" does not exist\nLINE 1: ...N (SELECT EGYENID FROM GYOGYSZ WHERE OEP_NEV LIKE \"%MATRIFEN...\n                                                             ^\n"
     ]
    }
   ],
   "source": [
    "db_connection = connect_to_db(str(os.environ['db_host']), str(\"pupha\"), str(os.environ['db_user']), str(os.environ['db_password']))\n",
    "print(read_db('SELECT OEP_NEV FROM GYOGYSZ WHERE EGYENID IN (SELECT EGYENID FROM GYOGYSZ WHERE OEP_NEV LIKE \"%MATRIFENT%\")',db_connection))\n",
    "close_connection(db_connection)"
   ]
  },
  {
   "cell_type": "code",
   "execution_count": 36,
   "metadata": {},
   "outputs": [
    {
     "data": {
      "text/html": [
       "<div>\n",
       "<style scoped>\n",
       "    .dataframe tbody tr th:only-of-type {\n",
       "        vertical-align: middle;\n",
       "    }\n",
       "\n",
       "    .dataframe tbody tr th {\n",
       "        vertical-align: top;\n",
       "    }\n",
       "\n",
       "    .dataframe thead th {\n",
       "        text-align: right;\n",
       "    }\n",
       "</style>\n",
       "<table border=\"1\" class=\"dataframe\">\n",
       "  <thead>\n",
       "    <tr style=\"text-align: right;\">\n",
       "      <th></th>\n",
       "      <th>0</th>\n",
       "    </tr>\n",
       "  </thead>\n",
       "  <tbody>\n",
       "    <tr>\n",
       "      <th>0</th>\n",
       "      <td>Teva Gyógyszergyár Zártkörűen Működő Részvényt...</td>\n",
       "    </tr>\n",
       "  </tbody>\n",
       "</table>\n",
       "</div>"
      ],
      "text/plain": [
       "                                                   0\n",
       "0  Teva Gyógyszergyár Zártkörűen Működő Részvényt..."
      ]
     },
     "execution_count": 36,
     "metadata": {},
     "output_type": "execute_result"
    }
   ],
   "source": [
    "query_answer.drop_duplicates()"
   ]
  },
  {
   "cell_type": "code",
   "execution_count": 14,
   "metadata": {},
   "outputs": [],
   "source": [
    "messages = [\n",
    "                {\"role\": \"system\", \"content\" : text_system_message.format(system_prompt=DB_TO_TEXT_SYSTEM_PROMPT, \n",
    "                                                                    sql_data=query_answer.drop_duplicates())},\n",
    "                {\"role\": \"user\", \"content\": question_message.format(question=QUERY)}\n",
    "            ]"
   ]
  },
  {
   "cell_type": "code",
   "execution_count": 15,
   "metadata": {},
   "outputs": [
    {
     "name": "stdout",
     "output_type": "stream",
     "text": [
      "'Az Enbrel hatóanyaga az etanercept.'\n"
     ]
    }
   ],
   "source": [
    "response = client.chat.completions.create(\n",
    "    model=\"TextToSql_Pupha\",\n",
    "    messages=messages,\n",
    "    temperature=0.0,\n",
    "    max_tokens=1024,\n",
    "    logprobs=True\n",
    ")\n",
    "pprint(response.choices[0].message.content)"
   ]
  },
  {
   "cell_type": "code",
   "execution_count": null,
   "metadata": {},
   "outputs": [],
   "source": []
  }
 ],
 "metadata": {
  "kernelspec": {
   "display_name": "Python 3",
   "language": "python",
   "name": "python3"
  },
  "language_info": {
   "codemirror_mode": {
    "name": "ipython",
    "version": 3
   },
   "file_extension": ".py",
   "mimetype": "text/x-python",
   "name": "python",
   "nbconvert_exporter": "python",
   "pygments_lexer": "ipython3",
   "version": "3.11.8"
  }
 },
 "nbformat": 4,
 "nbformat_minor": 2
}
