{
 "cells": [
  {
   "cell_type": "code",
   "execution_count": 1,
   "metadata": {},
   "outputs": [],
   "source": [
    "import os\n",
    "import numpy as np\n",
    "from dotenv import load_dotenv\n",
    "from openai import AzureOpenAI\n",
    "from pprint import pprint\n",
    "from utils.prompts.prompt import *\n",
    "from utils.prompts.Schema_Prompt_v1 import *\n",
    "from utils.postgres_functions import *"
   ]
  },
  {
   "cell_type": "code",
   "execution_count": 2,
   "metadata": {},
   "outputs": [
    {
     "data": {
      "text/plain": [
       "True"
      ]
     },
     "execution_count": 2,
     "metadata": {},
     "output_type": "execute_result"
    }
   ],
   "source": [
    "load_dotenv()"
   ]
  },
  {
   "cell_type": "code",
   "execution_count": 3,
   "metadata": {},
   "outputs": [],
   "source": [
    "def calculate_confidence_score(logprobs: list) -> float:\n",
    "    probs = []\n",
    "    # iterate through the token predictions and get the linear probs [0;1]\n",
    "    for logprob in logprobs:\n",
    "        probs.append(np.round(np.exp(logprob)*100, 2))\n",
    "    # calculate the confidence\n",
    "    return round(np.mean(probs), 2)"
   ]
  },
  {
   "cell_type": "code",
   "execution_count": 4,
   "metadata": {},
   "outputs": [],
   "source": [
    "client = AzureOpenAI(\n",
    "    api_key = str(os.environ['azure_api_key']),\n",
    "    api_version = str(os.environ['azure_api_version']),\n",
    "    azure_endpoint = str(os.environ['azure_api_endpoint'])\n",
    ")"
   ]
  },
  {
   "cell_type": "code",
   "execution_count": 8,
   "metadata": {},
   "outputs": [],
   "source": [
    "# QUERY = \"Forgalomban van a novocetrin?\"\n",
    "# QUERY = \"Milyen ciszplatin hatóanyagú gyógyszert tudok filmtablettás gyógyszerként kiírni?\"\n",
    "# QUERY = \"Milyen ciszplatin hatóanyagú gyógyszert tudok kiírni?\"\n",
    "# QUERY = \"Mennyibe kerül a syntroxine?\"\n",
    "QUERY = \"Milyen gyógyszert lenne érdemes felírni láz esetén?\"\n",
    "# QUERY = \"Milyen kiszerelésben kapható az egilok tabletta?\"\n",
    "# QUERY = \"Ki forgalmazza a perdox oldatot?\"\n",
    "# QUERY = \"Mivel lehet kiváltani a Matrifent?\"\n",
    "# QUERY = \"Ki írhatja fel a letrozol pharcet?\"\n",
    "# QUERY = \"Milyen betegségek esetén alkalmazható a Brusimp?\"\n",
    "# QUERY = \"Mi a calcium fluoratum ATC kódjának értelmezése?\""
   ]
  },
  {
   "cell_type": "code",
   "execution_count": 9,
   "metadata": {},
   "outputs": [],
   "source": [
    "sql_gen_messages = [\n",
    "                {\"role\": \"system\", \"content\" : sql_system_message.format(system_prompt=SQL_SYSTEM_PROMPT, \n",
    "                                                                    table_info=SCHEMA_PROMPT)},\n",
    "                {\"role\": \"user\", \"content\": question_message.format(question=QUERY)}\n",
    "                ]"
   ]
  },
  {
   "cell_type": "code",
   "execution_count": 10,
   "metadata": {},
   "outputs": [
    {
     "name": "stdout",
     "output_type": "stream",
     "text": [
      "('SELECT OEP_NEV, HATOANYAG FROM GYOGYSZ WHERE HATOANYAG ILIKE '\n",
      " \"'%lázcsillapító%' OR HATOANYAG ILIKE '%paracetamol%' OR HATOANYAG ILIKE \"\n",
      " \"'%ibuprofen%' OR HATOANYAG ILIKE '%aszpirin%' LIMIT 10\")\n"
     ]
    }
   ],
   "source": [
    "full_response = client.chat.completions.create(\n",
    "    model=\"TextToSql_Pupha\",\n",
    "    messages=sql_gen_messages,\n",
    "    temperature=0.0,\n",
    "    max_tokens=1024,\n",
    "    logprobs=True\n",
    ")\n",
    "pprint(full_response.choices[0].message.content)"
   ]
  },
  {
   "cell_type": "code",
   "execution_count": 11,
   "metadata": {},
   "outputs": [
    {
     "name": "stdout",
     "output_type": "stream",
     "text": [
      "ChatCompletion(id='chatcmpl-9G3qlZwgEqaIfvPe3bsLWlVPjBgBk', choices=[Choice(finish_reason='stop', index=0, logprobs=ChoiceLogprobs(content=[ChatCompletionTokenLogprob(token='SELECT', bytes=[83, 69, 76, 69, 67, 84], logprob=-0.036547907, top_logprobs=[]), ChatCompletionTokenLogprob(token=' O', bytes=[32, 79], logprob=-0.49334645, top_logprobs=[]), ChatCompletionTokenLogprob(token='EP', bytes=[69, 80], logprob=-2.868329e-05, top_logprobs=[]), ChatCompletionTokenLogprob(token='_NE', bytes=[95, 78, 69], logprob=-0.00025251842, top_logprobs=[]), ChatCompletionTokenLogprob(token='V', bytes=[86], logprob=0.0, top_logprobs=[]), ChatCompletionTokenLogprob(token=',', bytes=[44], logprob=-0.012823578, top_logprobs=[]), ChatCompletionTokenLogprob(token=' H', bytes=[32, 72], logprob=-0.09125859, top_logprobs=[]), ChatCompletionTokenLogprob(token='ATO', bytes=[65, 84, 79], logprob=-1.8431772e-05, top_logprobs=[]), ChatCompletionTokenLogprob(token='ANY', bytes=[65, 78, 89], logprob=-1.1994775e-05, top_logprobs=[]), ChatCompletionTokenLogprob(token='AG', bytes=[65, 71], logprob=-3.1281633e-07, top_logprobs=[]), ChatCompletionTokenLogprob(token=' FROM', bytes=[32, 70, 82, 79, 77], logprob=-0.9191299, top_logprobs=[]), ChatCompletionTokenLogprob(token=' G', bytes=[32, 71], logprob=-0.00013369438, top_logprobs=[]), ChatCompletionTokenLogprob(token='Y', bytes=[89], logprob=0.0, top_logprobs=[]), ChatCompletionTokenLogprob(token='OG', bytes=[79, 71], logprob=0.0, top_logprobs=[]), ChatCompletionTokenLogprob(token='YS', bytes=[89, 83], logprob=0.0, top_logprobs=[]), ChatCompletionTokenLogprob(token='Z', bytes=[90], logprob=-1.504853e-06, top_logprobs=[]), ChatCompletionTokenLogprob(token=' WHERE', bytes=[32, 87, 72, 69, 82, 69], logprob=-0.008929375, top_logprobs=[]), ChatCompletionTokenLogprob(token=' H', bytes=[32, 72], logprob=-0.42261085, top_logprobs=[]), ChatCompletionTokenLogprob(token='ATO', bytes=[65, 84, 79], logprob=-9.6867785e-05, top_logprobs=[]), ChatCompletionTokenLogprob(token='ANY', bytes=[65, 78, 89], logprob=-1.6286107e-05, top_logprobs=[]), ChatCompletionTokenLogprob(token='AG', bytes=[65, 71], logprob=-1.9361265e-07, top_logprobs=[]), ChatCompletionTokenLogprob(token=' IL', bytes=[32, 73, 76], logprob=-0.0001039008, top_logprobs=[]), ChatCompletionTokenLogprob(token='IKE', bytes=[73, 75, 69], logprob=0.0, top_logprobs=[]), ChatCompletionTokenLogprob(token=\" '%\", bytes=[32, 39, 37], logprob=-0.03932243, top_logprobs=[]), ChatCompletionTokenLogprob(token='l', bytes=[108], logprob=-0.3924913, top_logprobs=[]), ChatCompletionTokenLogprob(token='áz', bytes=[195, 161, 122], logprob=-0.02741033, top_logprobs=[]), ChatCompletionTokenLogprob(token='cs', bytes=[99, 115], logprob=-0.32700709, top_logprobs=[]), ChatCompletionTokenLogprob(token='ill', bytes=[105, 108, 108], logprob=-8.351697e-05, top_logprobs=[]), ChatCompletionTokenLogprob(token='ap', bytes=[97, 112], logprob=-7.3742274e-05, top_logprobs=[]), ChatCompletionTokenLogprob(token='ít', bytes=[195, 173, 116], logprob=-0.00024299313, top_logprobs=[]), ChatCompletionTokenLogprob(token='ó', bytes=[195, 179], logprob=-0.0012770228, top_logprobs=[]), ChatCompletionTokenLogprob(token=\"%'\", bytes=[37, 39], logprob=-0.0004291196, top_logprobs=[]), ChatCompletionTokenLogprob(token=' OR', bytes=[32, 79, 82], logprob=-0.68029314, top_logprobs=[]), ChatCompletionTokenLogprob(token=' H', bytes=[32, 72], logprob=-0.6886835, top_logprobs=[]), ChatCompletionTokenLogprob(token='ATO', bytes=[65, 84, 79], logprob=-1.1637165e-05, top_logprobs=[]), ChatCompletionTokenLogprob(token='ANY', bytes=[65, 78, 89], logprob=-5.8961017e-05, top_logprobs=[]), ChatCompletionTokenLogprob(token='AG', bytes=[65, 71], logprob=-9.0883464e-07, top_logprobs=[]), ChatCompletionTokenLogprob(token=' IL', bytes=[32, 73, 76], logprob=-4.596782e-05, top_logprobs=[]), ChatCompletionTokenLogprob(token='IKE', bytes=[73, 75, 69], logprob=0.0, top_logprobs=[]), ChatCompletionTokenLogprob(token=\" '%\", bytes=[32, 39, 37], logprob=-0.017174918, top_logprobs=[]), ChatCompletionTokenLogprob(token='par', bytes=[112, 97, 114], logprob=-0.5258172, top_logprobs=[]), ChatCompletionTokenLogprob(token='acet', bytes=[97, 99, 101, 116], logprob=-4.3202e-07, top_logprobs=[]), ChatCompletionTokenLogprob(token='am', bytes=[97, 109], logprob=-2.8564085e-05, top_logprobs=[]), ChatCompletionTokenLogprob(token='ol', bytes=[111, 108], logprob=-4.727906e-05, top_logprobs=[]), ChatCompletionTokenLogprob(token=\"%'\", bytes=[37, 39], logprob=-6.0153056e-05, top_logprobs=[]), ChatCompletionTokenLogprob(token=' OR', bytes=[32, 79, 82], logprob=-0.001824289, top_logprobs=[]), ChatCompletionTokenLogprob(token=' H', bytes=[32, 72], logprob=-0.00426537, top_logprobs=[]), ChatCompletionTokenLogprob(token='ATO', bytes=[65, 84, 79], logprob=-1.8624639e-06, top_logprobs=[]), ChatCompletionTokenLogprob(token='ANY', bytes=[65, 78, 89], logprob=-2.1008714e-06, top_logprobs=[]), ChatCompletionTokenLogprob(token='AG', bytes=[65, 71], logprob=0.0, top_logprobs=[]), ChatCompletionTokenLogprob(token=' IL', bytes=[32, 73, 76], logprob=-4.1273333e-06, top_logprobs=[]), ChatCompletionTokenLogprob(token='IKE', bytes=[73, 75, 69], logprob=0.0, top_logprobs=[]), ChatCompletionTokenLogprob(token=\" '%\", bytes=[32, 39, 37], logprob=-0.00042816595, top_logprobs=[]), ChatCompletionTokenLogprob(token='ib', bytes=[105, 98], logprob=-0.058892656, top_logprobs=[]), ChatCompletionTokenLogprob(token='upro', bytes=[117, 112, 114, 111], logprob=-1.504853e-06, top_logprobs=[]), ChatCompletionTokenLogprob(token='fen', bytes=[102, 101, 110], logprob=-0.0049322587, top_logprobs=[]), ChatCompletionTokenLogprob(token=\"%'\", bytes=[37, 39], logprob=-5.0974373e-05, top_logprobs=[]), ChatCompletionTokenLogprob(token=' OR', bytes=[32, 79, 82], logprob=-0.07281201, top_logprobs=[]), ChatCompletionTokenLogprob(token=' H', bytes=[32, 72], logprob=-0.048944093, top_logprobs=[]), ChatCompletionTokenLogprob(token='ATO', bytes=[65, 84, 79], logprob=-1.8624639e-06, top_logprobs=[]), ChatCompletionTokenLogprob(token='ANY', bytes=[65, 78, 89], logprob=-5.5122365e-07, top_logprobs=[]), ChatCompletionTokenLogprob(token='AG', bytes=[65, 71], logprob=0.0, top_logprobs=[]), ChatCompletionTokenLogprob(token=' IL', bytes=[32, 73, 76], logprob=-3.5313153e-06, top_logprobs=[]), ChatCompletionTokenLogprob(token='IKE', bytes=[73, 75, 69], logprob=0.0, top_logprobs=[]), ChatCompletionTokenLogprob(token=\" '%\", bytes=[32, 39, 37], logprob=-0.0005299182, top_logprobs=[]), ChatCompletionTokenLogprob(token='asz', bytes=[97, 115, 122], logprob=-0.65588266, top_logprobs=[]), ChatCompletionTokenLogprob(token='pir', bytes=[112, 105, 114], logprob=-3.888926e-06, top_logprobs=[]), ChatCompletionTokenLogprob(token='in', bytes=[105, 110], logprob=-1.0683535e-05, top_logprobs=[]), ChatCompletionTokenLogprob(token=\"%'\", bytes=[37, 39], logprob=-8.017927e-05, top_logprobs=[]), ChatCompletionTokenLogprob(token=' LIMIT', bytes=[32, 76, 73, 77, 73, 84], logprob=-0.25476384, top_logprobs=[]), ChatCompletionTokenLogprob(token=' ', bytes=[32], logprob=-3.1281633e-07, top_logprobs=[]), ChatCompletionTokenLogprob(token='10', bytes=[49, 48], logprob=-3.0545007e-06, top_logprobs=[])]), message=ChatCompletionMessage(content=\"SELECT OEP_NEV, HATOANYAG FROM GYOGYSZ WHERE HATOANYAG ILIKE '%lázcsillapító%' OR HATOANYAG ILIKE '%paracetamol%' OR HATOANYAG ILIKE '%ibuprofen%' OR HATOANYAG ILIKE '%aszpirin%' LIMIT 10\", role='assistant', function_call=None, tool_calls=None), content_filter_results={'hate': {'filtered': False, 'severity': 'safe'}, 'self_harm': {'filtered': False, 'severity': 'safe'}, 'sexual': {'filtered': False, 'severity': 'safe'}, 'violence': {'filtered': False, 'severity': 'safe'}})], created=1713615075, model='gpt-4', object='chat.completion', system_fingerprint='fp_8abb16fa4e', usage=CompletionUsage(completion_tokens=72, prompt_tokens=5792, total_tokens=5864), prompt_filter_results=[{'prompt_index': 0, 'content_filter_results': {'hate': {'filtered': False, 'severity': 'safe'}, 'self_harm': {'filtered': False, 'severity': 'safe'}, 'sexual': {'filtered': False, 'severity': 'safe'}, 'violence': {'filtered': False, 'severity': 'safe'}}}])\n"
     ]
    }
   ],
   "source": [
    "pprint(full_response)"
   ]
  },
  {
   "cell_type": "code",
   "execution_count": 9,
   "metadata": {},
   "outputs": [
    {
     "data": {
      "text/plain": [
       "94.66"
      ]
     },
     "execution_count": 9,
     "metadata": {},
     "output_type": "execute_result"
    }
   ],
   "source": [
    "logprobs = [x.logprob for x in full_response.choices[0].logprobs.content]\n",
    "calculate_confidence_score(logprobs)"
   ]
  },
  {
   "cell_type": "code",
   "execution_count": 12,
   "metadata": {},
   "outputs": [
    {
     "name": "stdout",
     "output_type": "stream",
     "text": [
      "Connection established\n",
      "                                               0                        1\n",
      "0                               COLDREX TABLETTA  paracetamol kombinációk\n",
      "1                               COLDREX TABLETTA  paracetamol kombinációk\n",
      "2          MEXALEN 125 MG VÉGBÉLKÚP CSECSEMŐKNEK              paracetamol\n",
      "3       MEXALEN 250 MG VÉGBÉLKÚP KISGYERMEKEKNEK              paracetamol\n",
      "4                   TEVA-MEXALEN 500 MG TABLETTA              paracetamol\n",
      "5                   TEVA-MEXALEN 500 MG TABLETTA              paracetamol\n",
      "6                              MIRALGIN TABLETTA  paracetamol kombinációk\n",
      "7         NEO CITRAN BELSŐLEGES POR FELNŐTTEKNEK  paracetamol kombinációk\n",
      "8                               SARIDON TABLETTA  paracetamol kombinációk\n",
      "9  TALVOSILEN FORTE 500 MG/30 MG KEMÉNY KAPSZULA  paracetamol kombinációk\n"
     ]
    }
   ],
   "source": [
    "db_connection = connect_to_db(str(os.environ['db_host']), str(os.environ['db_name']), str(os.environ['db_user']), str(os.environ['db_password']))\n",
    "print(read_db(full_response.choices[0].message.content,db_connection))\n",
    "close_connection(db_connection)"
   ]
  },
  {
   "cell_type": "code",
   "execution_count": 24,
   "metadata": {},
   "outputs": [
    {
     "name": "stdout",
     "output_type": "stream",
     "text": [
      "Connection established\n",
      "   0  1\n",
      "0  0  0\n",
      "1  0  0\n",
      "2  0  0\n",
      "3  0  0\n",
      "4  0  0\n",
      "5  0  0\n",
      "6  0  0\n",
      "7  0  0\n",
      "8  0  0\n",
      "9  0  0\n"
     ]
    }
   ],
   "source": [
    "db_connection = connect_to_db(str(os.environ['db_host']), str(os.environ['db_name']), str(os.environ['db_user']), str(os.environ['db_password']))\n",
    "print(read_db(\"SELECT OEP_FAN, OEP_FAB FROM GYOGYSZ WHERE OEP_NEV ILIKE '%syntroxine%' LIMIT '10'\",db_connection))\n",
    "close_connection(db_connection)"
   ]
  },
  {
   "cell_type": "code",
   "execution_count": null,
   "metadata": {},
   "outputs": [],
   "source": []
  }
 ],
 "metadata": {
  "kernelspec": {
   "display_name": "Python 3",
   "language": "python",
   "name": "python3"
  },
  "language_info": {
   "codemirror_mode": {
    "name": "ipython",
    "version": 3
   },
   "file_extension": ".py",
   "mimetype": "text/x-python",
   "name": "python",
   "nbconvert_exporter": "python",
   "pygments_lexer": "ipython3",
   "version": "3.11.8"
  }
 },
 "nbformat": 4,
 "nbformat_minor": 2
}
