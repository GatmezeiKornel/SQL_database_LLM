{
 "cells": [
  {
   "cell_type": "code",
   "execution_count": 1,
   "metadata": {},
   "outputs": [],
   "source": [
    "import os\n",
    "import numpy as np\n",
    "from dotenv import load_dotenv\n",
    "from openai import AzureOpenAI\n",
    "from pprint import pprint\n",
    "from utils.prompts.prompt import *\n",
    "from utils.prompts.Schema_Prompt_v1 import *\n",
    "from utils.postgres_functions import *"
   ]
  },
  {
   "cell_type": "code",
   "execution_count": 2,
   "metadata": {},
   "outputs": [
    {
     "data": {
      "text/plain": [
       "True"
      ]
     },
     "execution_count": 2,
     "metadata": {},
     "output_type": "execute_result"
    }
   ],
   "source": [
    "load_dotenv()"
   ]
  },
  {
   "cell_type": "code",
   "execution_count": 3,
   "metadata": {},
   "outputs": [],
   "source": [
    "def calculate_confidence_score(logprobs: list) -> float:\n",
    "    probs = []\n",
    "    # iterate through the token predictions and get the linear probs [0;1]\n",
    "    for logprob in logprobs:\n",
    "        probs.append(np.round(np.exp(logprob)*100, 2))\n",
    "    # calculate the confidence\n",
    "    return round(np.mean(probs), 2)"
   ]
  },
  {
   "cell_type": "code",
   "execution_count": 4,
   "metadata": {},
   "outputs": [],
   "source": [
    "client = AzureOpenAI(\n",
    "    api_key = str(os.environ['azure_api_key']),\n",
    "    api_version = \"2024-03-01-preview\",\n",
    "    azure_endpoint = str(os.environ['azure_api_endpoint'])\n",
    ")"
   ]
  },
  {
   "cell_type": "code",
   "execution_count": 16,
   "metadata": {},
   "outputs": [],
   "source": [
    "# QUERY = \"Forgalomban van a novocetrin?\"\n",
    "# QUERY = \"Milyen ciszplatin hatóanyagú gyógyszert tudok filmtablettás gyógyszerként kiírni?\"\n",
    "# QUERY = \"Milyen ciszplatin hatóanyagú gyógyszert tudok kiírni?\"\n",
    "# QUERY = \"Mennyibe kerül a syntroxine?\"\n",
    "# QUERY = \"Milyen gyógyszert lenne érdemes felírni láz esetén?\"\n",
    "# QUERY = \"Milyen kiszerelésben kapható az egilok tabletta?\"\n",
    "# QUERY = \"Ki forgalmazza a perdox oldatot?\"\n",
    "# QUERY = \"Mivel lehet kiváltani a Matrifent?\"\n",
    "# QUERY = \"Ki írhatja fel a letrozol pharcet?\"\n",
    "QUERY = \"Milyen betegségek esetén alkalmazható a Brusimp?\"\n",
    "# QUERY = \"Mi a calcium fluoratum ATC kódjának értelmezése?\""
   ]
  },
  {
   "cell_type": "code",
   "execution_count": 5,
   "metadata": {},
   "outputs": [],
   "source": [
    "QUERY = \"Milyen Algoflex típusokat ismersz?\""
   ]
  },
  {
   "cell_type": "code",
   "execution_count": 6,
   "metadata": {},
   "outputs": [],
   "source": [
    "sql_gen_messages = [\n",
    "                {\"role\": \"system\", \"content\" : sql_system_message.format(system_prompt=SQL_SYSTEM_PROMPT, \n",
    "                                                                    table_info=SCHEMA_PROMPT)},\n",
    "                {\"role\": \"user\", \"content\": question_message.format(question=QUERY)}\n",
    "                ]"
   ]
  },
  {
   "cell_type": "code",
   "execution_count": 7,
   "metadata": {},
   "outputs": [
    {
     "name": "stdout",
     "output_type": "stream",
     "text": [
      "(\"SELECT OEP_NEV FROM GYOGYSZ WHERE OEP_NEV ILIKE '%Algoflex%' ORDER BY \"\n",
      " 'OEP_NEV LIMIT 10')\n"
     ]
    }
   ],
   "source": [
    "full_response = client.chat.completions.create(\n",
    "    model=\"TextToSql_Pupha\",\n",
    "    messages=sql_gen_messages,\n",
    "    temperature=0.0,\n",
    "    max_tokens=1024,\n",
    "    logprobs=True\n",
    ")\n",
    "pprint(full_response.choices[0].message.content)"
   ]
  },
  {
   "cell_type": "code",
   "execution_count": 23,
   "metadata": {},
   "outputs": [
    {
     "name": "stdout",
     "output_type": "stream",
     "text": [
      "ChatCompletion(id='chatcmpl-9HDdIkwCu53nDDfgiXArbRYdLhK6q', choices=[Choice(finish_reason='stop', index=0, logprobs=ChoiceLogprobs(content=[ChatCompletionTokenLogprob(token='SELECT', bytes=[83, 69, 76, 69, 67, 84], logprob=-0.010786171, top_logprobs=[]), ChatCompletionTokenLogprob(token=' EU', bytes=[32, 69, 85], logprob=-1.3006307, top_logprobs=[]), ChatCompletionTokenLogprob(token='IND', bytes=[73, 78, 68], logprob=-0.0014440456, top_logprobs=[]), ChatCompletionTokenLogprob(token='IK', bytes=[73, 75], logprob=-2.6968896e-06, top_logprobs=[]), ChatCompletionTokenLogprob(token='AC', bytes=[65, 67], logprob=0.0, top_logprobs=[]), ChatCompletionTokenLogprob(token='IO', bytes=[73, 79], logprob=-4.3202e-07, top_logprobs=[]), ChatCompletionTokenLogprob(token='K', bytes=[75], logprob=-2.9352968e-06, top_logprobs=[]), ChatCompletionTokenLogprob(token='.LE', bytes=[46, 76, 69], logprob=-0.0020958956, top_logprobs=[]), ChatCompletionTokenLogprob(token='IR', bytes=[73, 82], logprob=-1.9361265e-07, top_logprobs=[]), ChatCompletionTokenLogprob(token='AS', bytes=[65, 83], logprob=0.0, top_logprobs=[]), ChatCompletionTokenLogprob(token=' FROM', bytes=[32, 70, 82, 79, 77], logprob=-0.62221235, top_logprobs=[]), ChatCompletionTokenLogprob(token=' EU', bytes=[32, 69, 85], logprob=-0.070029356, top_logprobs=[]), ChatCompletionTokenLogprob(token='IND', bytes=[73, 78, 68], logprob=-0.0019031742, top_logprobs=[]), ChatCompletionTokenLogprob(token='IK', bytes=[73, 75], logprob=-6.704273e-07, top_logprobs=[]), ChatCompletionTokenLogprob(token='AC', bytes=[65, 67], logprob=-1.9361265e-07, top_logprobs=[]), ChatCompletionTokenLogprob(token='IO', bytes=[73, 79], logprob=-2.3392786e-06, top_logprobs=[]), ChatCompletionTokenLogprob(token='K', bytes=[75], logprob=0.0, top_logprobs=[]), ChatCompletionTokenLogprob(token=' JOIN', bytes=[32, 74, 79, 73, 78], logprob=-0.41257018, top_logprobs=[]), ChatCompletionTokenLogprob(token=' E', bytes=[32, 69], logprob=-0.079566315, top_logprobs=[]), ChatCompletionTokenLogprob(token='UP', bytes=[85, 80], logprob=0.0, top_logprobs=[]), ChatCompletionTokenLogprob(token='ONT', bytes=[79, 78, 84], logprob=-7.89631e-07, top_logprobs=[]), ChatCompletionTokenLogprob(token='OK', bytes=[79, 75], logprob=-2.8160932e-06, top_logprobs=[]), ChatCompletionTokenLogprob(token=' ON', bytes=[32, 79, 78], logprob=-0.00042268995, top_logprobs=[]), ChatCompletionTokenLogprob(token=' EU', bytes=[32, 69, 85], logprob=-0.10488518, top_logprobs=[]), ChatCompletionTokenLogprob(token='IND', bytes=[73, 78, 68], logprob=-1.6240566e-06, top_logprobs=[]), ChatCompletionTokenLogprob(token='IK', bytes=[73, 75], logprob=-4.00813e-06, top_logprobs=[]), ChatCompletionTokenLogprob(token='AC', bytes=[65, 67], logprob=-1.8624639e-06, top_logprobs=[]), ChatCompletionTokenLogprob(token='IO', bytes=[73, 79], logprob=-3.070975e-05, top_logprobs=[]), ChatCompletionTokenLogprob(token='K', bytes=[75], logprob=0.0, top_logprobs=[]), ChatCompletionTokenLogprob(token='.E', bytes=[46, 69], logprob=-9.014684e-06, top_logprobs=[]), ChatCompletionTokenLogprob(token='UP', bytes=[85, 80], logprob=-1.3902034e-05, top_logprobs=[]), ChatCompletionTokenLogprob(token='ONT', bytes=[79, 78, 84], logprob=-1.9361265e-07, top_logprobs=[]), ChatCompletionTokenLogprob(token='_ID', bytes=[95, 73, 68], logprob=-4.723352e-06, top_logprobs=[]), ChatCompletionTokenLogprob(token=' =', bytes=[32, 61], logprob=-0.012332222, top_logprobs=[]), ChatCompletionTokenLogprob(token=' E', bytes=[32, 69], logprob=-2.2127088e-05, top_logprobs=[]), ChatCompletionTokenLogprob(token='UP', bytes=[85, 80], logprob=0.0, top_logprobs=[]), ChatCompletionTokenLogprob(token='ONT', bytes=[79, 78, 84], logprob=-1.9361265e-07, top_logprobs=[]), ChatCompletionTokenLogprob(token='OK', bytes=[79, 75], logprob=-3.4121115e-06, top_logprobs=[]), ChatCompletionTokenLogprob(token='.ID', bytes=[46, 73, 68], logprob=-1.0802739e-05, top_logprobs=[]), ChatCompletionTokenLogprob(token=' JOIN', bytes=[32, 74, 79, 73, 78], logprob=-0.0004896457, top_logprobs=[]), ChatCompletionTokenLogprob(token=' EU', bytes=[32, 69, 85], logprob=-0.014455875, top_logprobs=[]), ChatCompletionTokenLogprob(token='HO', bytes=[72, 79], logprob=-3.1281633e-07, top_logprobs=[]), ChatCompletionTokenLogprob(token='ZZ', bytes=[90, 90], logprob=-2.220075e-06, top_logprobs=[]), ChatCompletionTokenLogprob(token='AR', bytes=[65, 82], logprob=0.0, top_logprobs=[]), ChatCompletionTokenLogprob(token=' ON', bytes=[32, 79, 78], logprob=-0.00027099132, top_logprobs=[]), ChatCompletionTokenLogprob(token=' E', bytes=[32, 69], logprob=-0.012738484, top_logprobs=[]), ChatCompletionTokenLogprob(token='UP', bytes=[85, 80], logprob=-8.061054e-06, top_logprobs=[]), ChatCompletionTokenLogprob(token='ONT', bytes=[79, 78, 84], logprob=-1.0280384e-06, top_logprobs=[]), ChatCompletionTokenLogprob(token='OK', bytes=[79, 75], logprob=-1.504853e-06, top_logprobs=[]), ChatCompletionTokenLogprob(token='.ID', bytes=[46, 73, 68], logprob=-7.58424e-06, top_logprobs=[]), ChatCompletionTokenLogprob(token=' =', bytes=[32, 61], logprob=-0.00037979125, top_logprobs=[]), ChatCompletionTokenLogprob(token=' EU', bytes=[32, 69, 85], logprob=-3.500108e-05, top_logprobs=[]), ChatCompletionTokenLogprob(token='HO', bytes=[72, 79], logprob=-1.9361265e-07, top_logprobs=[]), ChatCompletionTokenLogprob(token='ZZ', bytes=[90, 90], logprob=0.0, top_logprobs=[]), ChatCompletionTokenLogprob(token='AR', bytes=[65, 82], logprob=-1.9361265e-07, top_logprobs=[]), ChatCompletionTokenLogprob(token='.E', bytes=[46, 69], logprob=-4.365741e-06, top_logprobs=[]), ChatCompletionTokenLogprob(token='UP', bytes=[85, 80], logprob=-1.9816675e-06, top_logprobs=[]), ChatCompletionTokenLogprob(token='ONT', bytes=[79, 78, 84], logprob=-1.9361265e-07, top_logprobs=[]), ChatCompletionTokenLogprob(token='_ID', bytes=[95, 73, 68], logprob=-1.0280384e-06, top_logprobs=[]), ChatCompletionTokenLogprob(token=' JOIN', bytes=[32, 74, 79, 73, 78], logprob=-7.159661e-05, top_logprobs=[]), ChatCompletionTokenLogprob(token=' G', bytes=[32, 71], logprob=-1.1041146e-05, top_logprobs=[]), ChatCompletionTokenLogprob(token='Y', bytes=[89], logprob=0.0, top_logprobs=[]), ChatCompletionTokenLogprob(token='OG', bytes=[79, 71], logprob=0.0, top_logprobs=[]), ChatCompletionTokenLogprob(token='YS', bytes=[89, 83], logprob=-2.4584822e-06, top_logprobs=[]), ChatCompletionTokenLogprob(token='Z', bytes=[90], logprob=-9.0883464e-07, top_logprobs=[]), ChatCompletionTokenLogprob(token=' ON', bytes=[32, 79, 78], logprob=-0.00011415232, top_logprobs=[]), ChatCompletionTokenLogprob(token=' EU', bytes=[32, 69, 85], logprob=-0.007882477, top_logprobs=[]), ChatCompletionTokenLogprob(token='HO', bytes=[72, 79], logprob=0.0, top_logprobs=[]), ChatCompletionTokenLogprob(token='ZZ', bytes=[90, 90], logprob=0.0, top_logprobs=[]), ChatCompletionTokenLogprob(token='AR', bytes=[65, 82], logprob=0.0, top_logprobs=[]), ChatCompletionTokenLogprob(token='.G', bytes=[46, 71], logprob=-9.610702e-06, top_logprobs=[]), ChatCompletionTokenLogprob(token='Y', bytes=[89], logprob=-4.3202e-07, top_logprobs=[]), ChatCompletionTokenLogprob(token='OG', bytes=[79, 71], logprob=-1.9361265e-07, top_logprobs=[]), ChatCompletionTokenLogprob(token='YS', bytes=[89, 83], logprob=-7.89631e-07, top_logprobs=[]), ChatCompletionTokenLogprob(token='Z', bytes=[90], logprob=-4.00813e-06, top_logprobs=[]), ChatCompletionTokenLogprob(token='_ID', bytes=[95, 73, 68], logprob=-4.3202e-07, top_logprobs=[]), ChatCompletionTokenLogprob(token=' =', bytes=[32, 61], logprob=-0.00020163313, top_logprobs=[]), ChatCompletionTokenLogprob(token=' G', bytes=[32, 71], logprob=-1.7835755e-05, top_logprobs=[]), ChatCompletionTokenLogprob(token='Y', bytes=[89], logprob=0.0, top_logprobs=[]), ChatCompletionTokenLogprob(token='OG', bytes=[79, 71], logprob=0.0, top_logprobs=[]), ChatCompletionTokenLogprob(token='YS', bytes=[89, 83], logprob=-1.8624639e-06, top_logprobs=[]), ChatCompletionTokenLogprob(token='Z', bytes=[90], logprob=-1.9361265e-07, top_logprobs=[]), ChatCompletionTokenLogprob(token='.ID', bytes=[46, 73, 68], logprob=-2.220075e-06, top_logprobs=[]), ChatCompletionTokenLogprob(token=' WHERE', bytes=[32, 87, 72, 69, 82, 69], logprob=-0.0002509688, top_logprobs=[]), ChatCompletionTokenLogprob(token=' G', bytes=[32, 71], logprob=-0.004232616, top_logprobs=[]), ChatCompletionTokenLogprob(token='Y', bytes=[89], logprob=-3.1281633e-07, top_logprobs=[]), ChatCompletionTokenLogprob(token='OG', bytes=[79, 71], logprob=0.0, top_logprobs=[]), ChatCompletionTokenLogprob(token='YS', bytes=[89, 83], logprob=-2.4584822e-06, top_logprobs=[]), ChatCompletionTokenLogprob(token='Z', bytes=[90], logprob=-1.9361265e-07, top_logprobs=[]), ChatCompletionTokenLogprob(token='.O', bytes=[46, 79], logprob=-0.0014288095, top_logprobs=[]), ChatCompletionTokenLogprob(token='EP', bytes=[69, 80], logprob=-6.704273e-07, top_logprobs=[]), ChatCompletionTokenLogprob(token='_NE', bytes=[95, 78, 69], logprob=-1.7432603e-06, top_logprobs=[]), ChatCompletionTokenLogprob(token='V', bytes=[86], logprob=-1.9361265e-07, top_logprobs=[]), ChatCompletionTokenLogprob(token=' IL', bytes=[32, 73, 76], logprob=-0.00013822412, top_logprobs=[]), ChatCompletionTokenLogprob(token='IKE', bytes=[73, 75, 69], logprob=0.0, top_logprobs=[]), ChatCompletionTokenLogprob(token=\" '%\", bytes=[32, 39, 37], logprob=-0.016064283, top_logprobs=[]), ChatCompletionTokenLogprob(token='Br', bytes=[66, 114], logprob=-0.048528433, top_logprobs=[]), ChatCompletionTokenLogprob(token='us', bytes=[117, 115], logprob=-4.365741e-06, top_logprobs=[]), ChatCompletionTokenLogprob(token='imp', bytes=[105, 109, 112], logprob=-2.9517714e-05, top_logprobs=[]), ChatCompletionTokenLogprob(token=\"%'\", bytes=[37, 39], logprob=-0.0002546641, top_logprobs=[]), ChatCompletionTokenLogprob(token=' LIMIT', bytes=[32, 76, 73, 77, 73, 84], logprob=-0.108565286, top_logprobs=[]), ChatCompletionTokenLogprob(token=' ', bytes=[32], logprob=-9.0883464e-07, top_logprobs=[]), ChatCompletionTokenLogprob(token='10', bytes=[49, 48], logprob=-2.577686e-06, top_logprobs=[])]), message=ChatCompletionMessage(content=\"SELECT EUINDIKACIOK.LEIRAS FROM EUINDIKACIOK JOIN EUPONTOK ON EUINDIKACIOK.EUPONT_ID = EUPONTOK.ID JOIN EUHOZZAR ON EUPONTOK.ID = EUHOZZAR.EUPONT_ID JOIN GYOGYSZ ON EUHOZZAR.GYOGYSZ_ID = GYOGYSZ.ID WHERE GYOGYSZ.OEP_NEV ILIKE '%Brusimp%' LIMIT 10\", role='assistant', function_call=None, tool_calls=None), content_filter_results={'hate': {'filtered': False, 'severity': 'safe'}, 'self_harm': {'filtered': False, 'severity': 'safe'}, 'sexual': {'filtered': False, 'severity': 'safe'}, 'violence': {'filtered': False, 'severity': 'safe'}})], created=1713891008, model='gpt-4', object='chat.completion', system_fingerprint='fp_8abb16fa4e', usage=CompletionUsage(completion_tokens=103, prompt_tokens=3474, total_tokens=3577), prompt_filter_results=[{'prompt_index': 0, 'content_filter_results': {'hate': {'filtered': False, 'severity': 'safe'}, 'self_harm': {'filtered': False, 'severity': 'safe'}, 'sexual': {'filtered': False, 'severity': 'safe'}, 'violence': {'filtered': False, 'severity': 'safe'}}}])\n"
     ]
    }
   ],
   "source": [
    "pprint(full_response)"
   ]
  },
  {
   "cell_type": "code",
   "execution_count": 24,
   "metadata": {},
   "outputs": [
    {
     "data": {
      "text/plain": [
       "98.05"
      ]
     },
     "execution_count": 24,
     "metadata": {},
     "output_type": "execute_result"
    }
   ],
   "source": [
    "logprobs = [x.logprob for x in full_response.choices[0].logprobs.content]\n",
    "calculate_confidence_score(logprobs)"
   ]
  },
  {
   "cell_type": "code",
   "execution_count": 8,
   "metadata": {},
   "outputs": [
    {
     "name": "stdout",
     "output_type": "stream",
     "text": [
      "Connection established\n"
     ]
    }
   ],
   "source": [
    "db_connection = connect_to_db(str(os.environ['db_host']), str('pupha'), str(os.environ['db_user']), str(os.environ['db_password']))\n",
    "query_answer = read_db(full_response.choices[0].message.content,db_connection)\n",
    "close_connection(db_connection)"
   ]
  },
  {
   "cell_type": "code",
   "execution_count": 9,
   "metadata": {},
   "outputs": [
    {
     "data": {
      "text/html": [
       "<div>\n",
       "<style scoped>\n",
       "    .dataframe tbody tr th:only-of-type {\n",
       "        vertical-align: middle;\n",
       "    }\n",
       "\n",
       "    .dataframe tbody tr th {\n",
       "        vertical-align: top;\n",
       "    }\n",
       "\n",
       "    .dataframe thead th {\n",
       "        text-align: right;\n",
       "    }\n",
       "</style>\n",
       "<table border=\"1\" class=\"dataframe\">\n",
       "  <thead>\n",
       "    <tr style=\"text-align: right;\">\n",
       "      <th></th>\n",
       "      <th>0</th>\n",
       "    </tr>\n",
       "  </thead>\n",
       "  <tbody>\n",
       "    <tr>\n",
       "      <th>0</th>\n",
       "      <td>ALGOFLEX BABY 20 MG/ML BELSŐLEGES SZUSZPENZIÓ</td>\n",
       "    </tr>\n",
       "    <tr>\n",
       "      <th>1</th>\n",
       "      <td>ALGOFLEX DUO 400 MG/100 MG FILMTABLETTA</td>\n",
       "    </tr>\n",
       "    <tr>\n",
       "      <th>2</th>\n",
       "      <td>ALGOFLEX DUO 400 MG/100 MG FILMTABLETTA</td>\n",
       "    </tr>\n",
       "    <tr>\n",
       "      <th>3</th>\n",
       "      <td>ALGOFLEX DUO 400 MG/100 MG FILMTABLETTA</td>\n",
       "    </tr>\n",
       "    <tr>\n",
       "      <th>4</th>\n",
       "      <td>ALGOFLEX DUO 400 MG/100 MG FILMTABLETTA</td>\n",
       "    </tr>\n",
       "    <tr>\n",
       "      <th>5</th>\n",
       "      <td>ALGOFLEX FORTE DOLO 400 MG FILMTABLETTA</td>\n",
       "    </tr>\n",
       "    <tr>\n",
       "      <th>6</th>\n",
       "      <td>ALGOFLEX FORTE DOLO 400 MG FILMTABLETTA</td>\n",
       "    </tr>\n",
       "    <tr>\n",
       "      <th>7</th>\n",
       "      <td>ALGOFLEX FORTE DOLO 400 MG FILMTABLETTA</td>\n",
       "    </tr>\n",
       "    <tr>\n",
       "      <th>8</th>\n",
       "      <td>ALGOFLEX FORTE DOLO 400 MG FILMTABLETTA</td>\n",
       "    </tr>\n",
       "    <tr>\n",
       "      <th>9</th>\n",
       "      <td>ALGOFLEX FORTE DOLO 400 MG FILMTABLETTA</td>\n",
       "    </tr>\n",
       "  </tbody>\n",
       "</table>\n",
       "</div>"
      ],
      "text/plain": [
       "                                               0\n",
       "0  ALGOFLEX BABY 20 MG/ML BELSŐLEGES SZUSZPENZIÓ\n",
       "1        ALGOFLEX DUO 400 MG/100 MG FILMTABLETTA\n",
       "2        ALGOFLEX DUO 400 MG/100 MG FILMTABLETTA\n",
       "3        ALGOFLEX DUO 400 MG/100 MG FILMTABLETTA\n",
       "4        ALGOFLEX DUO 400 MG/100 MG FILMTABLETTA\n",
       "5        ALGOFLEX FORTE DOLO 400 MG FILMTABLETTA\n",
       "6        ALGOFLEX FORTE DOLO 400 MG FILMTABLETTA\n",
       "7        ALGOFLEX FORTE DOLO 400 MG FILMTABLETTA\n",
       "8        ALGOFLEX FORTE DOLO 400 MG FILMTABLETTA\n",
       "9        ALGOFLEX FORTE DOLO 400 MG FILMTABLETTA"
      ]
     },
     "execution_count": 9,
     "metadata": {},
     "output_type": "execute_result"
    }
   ],
   "source": [
    "query_answer"
   ]
  },
  {
   "cell_type": "code",
   "execution_count": 35,
   "metadata": {},
   "outputs": [
    {
     "name": "stdout",
     "output_type": "stream",
     "text": [
      "Connection established\n",
      "Empty DataFrame\n",
      "Columns: []\n",
      "Index: []\n"
     ]
    }
   ],
   "source": [
    "db_connection = connect_to_db(str(os.environ['db_host']), str(\"pupha\"), str(os.environ['db_user']), str(os.environ['db_password']))\n",
    "print(read_db(\"SELECT BNOKODOK.LEIRAS FROM GYOGYSZ JOIN EUHOZZAR ON GYOGYSZ.ID = EUHOZZAR.GYOGYSZ_ID JOIN EUPONTOK ON EUHOZZAR.EUPONT_ID = EUPONTOK.ID JOIN BNOHOZZAR ON BNOHOZZAR.EUPONT_ID = EUPONTOK.ID JOIN BNOKODOK ON BNOHOZZAR.BNO_ID = BNOKODOK.ID WHERE GYOGYSZ.OEP_NEV LIKE '*BRUSIMP*'\",db_connection))\n",
    "close_connection(db_connection)"
   ]
  },
  {
   "cell_type": "code",
   "execution_count": 14,
   "metadata": {},
   "outputs": [
    {
     "data": {
      "text/html": [
       "<div>\n",
       "<style scoped>\n",
       "    .dataframe tbody tr th:only-of-type {\n",
       "        vertical-align: middle;\n",
       "    }\n",
       "\n",
       "    .dataframe tbody tr th {\n",
       "        vertical-align: top;\n",
       "    }\n",
       "\n",
       "    .dataframe thead th {\n",
       "        text-align: right;\n",
       "    }\n",
       "</style>\n",
       "<table border=\"1\" class=\"dataframe\">\n",
       "  <thead>\n",
       "    <tr style=\"text-align: right;\">\n",
       "      <th></th>\n",
       "      <th>0</th>\n",
       "      <th>1</th>\n",
       "    </tr>\n",
       "  </thead>\n",
       "  <tbody>\n",
       "    <tr>\n",
       "      <th>0</th>\n",
       "      <td>1012</td>\n",
       "      <td>Sugártherápia</td>\n",
       "    </tr>\n",
       "    <tr>\n",
       "      <th>1</th>\n",
       "      <td>10172</td>\n",
       "      <td>Sugártherápia</td>\n",
       "    </tr>\n",
       "    <tr>\n",
       "      <th>2</th>\n",
       "      <td>10526</td>\n",
       "      <td>Klinikai onkológia</td>\n",
       "    </tr>\n",
       "    <tr>\n",
       "      <th>3</th>\n",
       "      <td>10547</td>\n",
       "      <td>Klinikai onkológia</td>\n",
       "    </tr>\n",
       "    <tr>\n",
       "      <th>4</th>\n",
       "      <td>10547</td>\n",
       "      <td>Sugártherápia</td>\n",
       "    </tr>\n",
       "    <tr>\n",
       "      <th>5</th>\n",
       "      <td>10606</td>\n",
       "      <td>Sugártherápia</td>\n",
       "    </tr>\n",
       "    <tr>\n",
       "      <th>6</th>\n",
       "      <td>10614</td>\n",
       "      <td>Klinikai onkológia</td>\n",
       "    </tr>\n",
       "    <tr>\n",
       "      <th>7</th>\n",
       "      <td>10614</td>\n",
       "      <td>Sugártherápia</td>\n",
       "    </tr>\n",
       "    <tr>\n",
       "      <th>8</th>\n",
       "      <td>10922</td>\n",
       "      <td>Klinikai onkológia</td>\n",
       "    </tr>\n",
       "    <tr>\n",
       "      <th>9</th>\n",
       "      <td>11567</td>\n",
       "      <td>Sugártherápia</td>\n",
       "    </tr>\n",
       "  </tbody>\n",
       "</table>\n",
       "</div>"
      ],
      "text/plain": [
       "       0                   1\n",
       "0   1012       Sugártherápia\n",
       "1  10172       Sugártherápia\n",
       "2  10526  Klinikai onkológia\n",
       "3  10547  Klinikai onkológia\n",
       "4  10547       Sugártherápia\n",
       "5  10606       Sugártherápia\n",
       "6  10614  Klinikai onkológia\n",
       "7  10614       Sugártherápia\n",
       "8  10922  Klinikai onkológia\n",
       "9  11567       Sugártherápia"
      ]
     },
     "execution_count": 14,
     "metadata": {},
     "output_type": "execute_result"
    }
   ],
   "source": [
    "query_answer.drop_duplicates()"
   ]
  },
  {
   "cell_type": "code",
   "execution_count": 25,
   "metadata": {},
   "outputs": [],
   "source": [
    "messages = [\n",
    "                {\"role\": \"system\", \"content\" : text_system_message.format(system_prompt=DB_TO_TEXT_SYSTEM_PROMPT, \n",
    "                                                                    sql_data=query_answer.drop_duplicates())},\n",
    "                {\"role\": \"user\", \"content\": question_message.format(question=QUERY)}\n",
    "            ]"
   ]
  },
  {
   "cell_type": "code",
   "execution_count": 26,
   "metadata": {},
   "outputs": [
    {
     "name": "stdout",
     "output_type": "stream",
     "text": [
      "'Nem tudom.'\n"
     ]
    }
   ],
   "source": [
    "response = client.chat.completions.create(\n",
    "    model=\"TextToSql_Pupha\",\n",
    "    messages=messages,\n",
    "    temperature=0.5,\n",
    "    max_tokens=1024,\n",
    "    logprobs=True\n",
    ")\n",
    "pprint(response.choices[0].message.content)"
   ]
  },
  {
   "cell_type": "code",
   "execution_count": null,
   "metadata": {},
   "outputs": [],
   "source": []
  }
 ],
 "metadata": {
  "kernelspec": {
   "display_name": "Python 3",
   "language": "python",
   "name": "python3"
  },
  "language_info": {
   "codemirror_mode": {
    "name": "ipython",
    "version": 3
   },
   "file_extension": ".py",
   "mimetype": "text/x-python",
   "name": "python",
   "nbconvert_exporter": "python",
   "pygments_lexer": "ipython3",
   "version": "3.11.8"
  }
 },
 "nbformat": 4,
 "nbformat_minor": 2
}
